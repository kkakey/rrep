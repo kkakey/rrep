{
 "cells": [
  {
   "cell_type": "markdown",
   "id": "96d53643",
   "metadata": {},
   "source": [
    "## Data Preprocessing\n",
    "\n",
    "### Creating precinct-level data for Jefferson County, Alabama, the includes 2020 Census demographic data and the 2020 election results"
   ]
  },
  {
   "cell_type": "markdown",
   "id": "97c0925d",
   "metadata": {},
   "source": [
    "Data files:\n",
    "- `al_vest_20.shp`: 2020 Alabama precinct and election results shapefile\n",
    "- `al_b_2020_bound.shp`: 2020 Census Redistricting Data (P.L. 94-171) Block Shapefile for Alabama\n",
    "- `al_pl2020_b.csv`: 2020 PL 94-171 Data Summary File for Alabama based on the Decennial Census at the Block level\n",
    "\n",
    "All data files are from Redistricting data hub: https://www.redistrictingdatahub.org/"
   ]
  },
  {
   "cell_type": "code",
   "execution_count": 111,
   "id": "6ed04591",
   "metadata": {},
   "outputs": [],
   "source": [
    "import maup\n",
    "import pandas as pd\n",
    "import geopandas as gp"
   ]
  },
  {
   "cell_type": "markdown",
   "id": "da27502c",
   "metadata": {},
   "source": [
    "### Load Precincts"
   ]
  },
  {
   "cell_type": "code",
   "execution_count": 112,
   "id": "a8de32fc",
   "metadata": {},
   "outputs": [],
   "source": [
    "precincts = gp.read_file('raw-data/al_vest_20/al_vest_20.shp')\n",
    "precincts = precincts[precincts.GEOID20.str.startswith('01073')]\n",
    "\n",
    "precincts = precincts.to_crs(epsg=32616) # set crs to UTM"
   ]
  },
  {
   "cell_type": "markdown",
   "id": "65ec70fb",
   "metadata": {},
   "source": [
    "2020 State-wide offices in AL for election with both a Democratic and Republican candidate:\n",
    "- President\n",
    "- Sentate\n",
    "- Alabama Public Service Commission President"
   ]
  },
  {
   "cell_type": "code",
   "execution_count": 113,
   "id": "4d79c2fa",
   "metadata": {},
   "outputs": [],
   "source": [
    "precincts = precincts[['GEOID20', 'G20PRERTRU', 'G20PREDBID', 'G20PRELJOR', 'G20PREOWRI', 'G20USSRTUB', 'G20USSDJON', 'G20USSOWRI', 'G20PSCRCAV', 'G20PSCDCAS', 'G20PSCOWRI', 'geometry']]"
   ]
  },
  {
   "cell_type": "code",
   "execution_count": 114,
   "id": "b4541337",
   "metadata": {},
   "outputs": [],
   "source": [
    "precincts = precincts[['GEOID20', 'G20PRERTRU', 'G20PREDBID', 'G20PRELJOR', 'G20PREOWRI', 'G20USSRTUB', 'G20USSDJON', 'G20USSOWRI', 'G20PSCRCAV', 'G20PSCDCAS', 'G20PSCOWRI', 'geometry']]\n",
    "\n",
    "# preprocessing\n",
    "precincts.rename(columns={col: col[:-3] for col in [col for col in precincts.columns if col.startswith('G')]}, inplace=True)\n",
    "precincts['G20PREDO'] = precincts['G20PREL'] + precincts['G20PREO']\n",
    "precincts = precincts.drop(columns=['G20PREL', 'G20PREO'])\n",
    "# get vote totals for each office\n",
    "pres_cols = ['G20PRER', 'G20PRED', 'G20PREDO']\n",
    "precincts['G20PRE_TOT'] = precincts[pres_cols].sum(axis=1)\n",
    "\n",
    "senate_cols = ['G20USSR', 'G20USSD', 'G20USSO']\n",
    "precincts['G20USS_TOT'] = precincts[senate_cols].sum(axis=1)\n",
    "\n",
    "senate_cols = ['G20PSCR', 'G20PSCD', 'G20PSCO']\n",
    "precincts['G20PSC_TOT'] = precincts[senate_cols].sum(axis=1)"
   ]
  },
  {
   "cell_type": "code",
   "execution_count": 115,
   "id": "d7440da4",
   "metadata": {},
   "outputs": [],
   "source": [
    "precincts['prop_PRER']= precincts['G20PRER']/ precincts['G20PRE_TOT']\n",
    "precincts['prop_PRED']= precincts['G20PRED']/ precincts['G20PRE_TOT']\n",
    "\n",
    "precincts['prop_USSR']= precincts['G20USSR']/ precincts['G20USS_TOT']\n",
    "precincts['prop_USSD']= precincts['G20USSD']/ precincts['G20USS_TOT']\n",
    "\n",
    "precincts['prop_PSCR']= precincts['G20PSCR']/ precincts['G20PSC_TOT']\n",
    "precincts['prop_PSCD']= precincts['G20PSCD']/ precincts['G20PSC_TOT']"
   ]
  },
  {
   "cell_type": "markdown",
   "id": "2c0ea038",
   "metadata": {},
   "source": [
    "### Load Census Blocks"
   ]
  },
  {
   "cell_type": "code",
   "execution_count": 116,
   "id": "adc63052",
   "metadata": {},
   "outputs": [],
   "source": [
    "blocks = gp.read_file('raw-data/2020_census_blocks/al_b_2020_bound/al_b_2020_bound.shp', mask=precincts)\n",
    "blocks.rename(columns={\"GEOID20\": \"GEOID\"}, inplace=True)\n",
    "blocks = blocks[blocks.COUNTYFP20 == '073']\n",
    "blocks = blocks.to_crs(epsg=32616) # set crs to UTM\n",
    "\n",
    "\n",
    "demo_blocks = pd.read_csv('raw-data/2020_census_blocks/al_pl2020_b/al_pl2020_b.csv', low_memory=False)\n",
    "demo_blocks['GEOID'] = demo_blocks['GEOID'].str.slice(-15)"
   ]
  },
  {
   "cell_type": "markdown",
   "id": "43297039",
   "metadata": {},
   "source": [
    "Census Public Law 94-171 fields: https://www2.census.gov/programs-surveys/decennial/2020/technical-documentation/complete-tech-docs/summary-file/2020Census_PL94_171Redistricting_StatesTechDoc_English.pdf\n",
    "\n",
    "- P0040001 = total population 18 and over\n",
    "- P0040002 = total population 18 and over: hispanic or latino\n",
    "- P0040005 = total population 18 and over: white alone, not hispanic or latino\n",
    "- P0040006 = total population 18 and over: black alone, not hispanic or latino\n",
    "- P0040007 = total population 18 and over: american indian and alaska native alone, not hispanic or latino\n",
    "- P0040008 = total population 18 and over: asian alone, not hispanic or latino\n",
    "- P0040009 = total population 18 and over: native hawaiian and other pacific islander alone, not hispanic or latino\n",
    "- P0040010 = total population 18 and over: some other, not hispanic or latino\n",
    "- P0040011 = total population 18 and over: two or more, not hispanic or latino"
   ]
  },
  {
   "cell_type": "code",
   "execution_count": 117,
   "id": "6802a04e",
   "metadata": {},
   "outputs": [],
   "source": [
    "# Attach demographic data to blocks\n",
    "demo_cols = ['P0010001', 'P0040001', 'P0040002', 'P0040005', 'P0040006', 'P0040007', 'P0040008', 'P0040009', 'P0040010', 'P0040011']\n",
    "\n",
    "blocks = \\\n",
    "  blocks\\\n",
    "  .merge(demo_blocks[['GEOID']+demo_cols], how='left', on='GEOID')\\\n",
    "  [['GEOID']+demo_cols+['geometry']]"
   ]
  },
  {
   "cell_type": "code",
   "execution_count": 118,
   "id": "703d3b25",
   "metadata": {},
   "outputs": [
    {
     "data": {
      "text/plain": [
       "674721"
      ]
     },
     "execution_count": 118,
     "metadata": {},
     "output_type": "execute_result"
    }
   ],
   "source": [
    "# population check\n",
    "blocks['P0010001'].sum() # 674,721"
   ]
  },
  {
   "cell_type": "markdown",
   "id": "a6587de5",
   "metadata": {},
   "source": [
    "### Prorate population data to precincts"
   ]
  },
  {
   "cell_type": "code",
   "execution_count": 119,
   "id": "fecf86f6",
   "metadata": {},
   "outputs": [],
   "source": [
    "blocks_to_precincts_assignment = maup.assign(blocks, precincts)\n",
    "precincts[demo_cols] = blocks[demo_cols].groupby(blocks_to_precincts_assignment).sum()"
   ]
  },
  {
   "cell_type": "code",
   "execution_count": 120,
   "id": "95bcc07d",
   "metadata": {},
   "outputs": [
    {
     "name": "stdout",
     "output_type": "stream",
     "text": [
      "674721\n"
     ]
    },
    {
     "data": {
      "text/plain": [
       "True"
      ]
     },
     "execution_count": 120,
     "metadata": {},
     "output_type": "execute_result"
    }
   ],
   "source": [
    "# population check\n",
    "print(precincts['P0010001'].sum())\n",
    "precincts['P0010001'].sum() == blocks['P0010001'].sum() "
   ]
  },
  {
   "cell_type": "code",
   "execution_count": 121,
   "id": "cc0ac80d",
   "metadata": {},
   "outputs": [],
   "source": [
    "precincts.to_file('output-data/al_jefferson-2020_precincts.shp', driver='ESRI Shapefile')"
   ]
  },
  {
   "cell_type": "code",
   "execution_count": null,
   "id": "44ccd9b2",
   "metadata": {},
   "outputs": [],
   "source": []
  }
 ],
 "metadata": {
  "kernelspec": {
   "display_name": "Presentation-Ensembles-DOpX2fvx",
   "language": "python",
   "name": "python3"
  },
  "language_info": {
   "codemirror_mode": {
    "name": "ipython",
    "version": 3
   },
   "file_extension": ".py",
   "mimetype": "text/x-python",
   "name": "python",
   "nbconvert_exporter": "python",
   "pygments_lexer": "ipython3",
   "version": "3.11.3"
  }
 },
 "nbformat": 4,
 "nbformat_minor": 5
}
