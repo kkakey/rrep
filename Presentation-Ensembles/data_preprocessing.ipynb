{
 "cells": [
  {
   "cell_type": "markdown",
   "id": "96d53643",
   "metadata": {},
   "source": [
    "## Data Preprocessing\n",
    "\n",
    "### Creating precinct-level data for Jefferson County, Alabama, the includes 2020 Census demographic data and the 2020 election results"
   ]
  },
  {
   "cell_type": "markdown",
   "id": "97c0925d",
   "metadata": {},
   "source": [
    "Data files:\n",
    "- `al_vest_20.shp`: 2020 Alabama precinct and election results shapefile\n",
    "- `al_b_2020_bound.shp`: 2020 Census Redistricting Data (P.L. 94-171) Block Shapefile for Alabama\n",
    "- `al_pl2020_b.csv`: 2020 PL 94-171 Data Summary File for Alabama based on the Decennial Census at the Block level\n",
    "\n",
    "All data files are from Redistricting data hub: https://www.redistrictingdatahub.org/"
   ]
  },
  {
   "cell_type": "code",
   "execution_count": 1,
   "id": "6ed04591",
   "metadata": {},
   "outputs": [],
   "source": [
    "import maup\n",
    "import pandas as pd\n",
    "import geopandas as gp"
   ]
  },
  {
   "cell_type": "markdown",
   "id": "da27502c",
   "metadata": {},
   "source": [
    "### Load Precincts"
   ]
  },
  {
   "cell_type": "code",
   "execution_count": 2,
   "id": "a8de32fc",
   "metadata": {},
   "outputs": [],
   "source": [
    "precincts = gp.read_file('raw-data/al_vest_20/al_vest_20.shp')\n",
    "precincts = precincts[precincts.GEOID20.str.startswith('01073')]\n",
    "precincts.reset_index(drop=True, inplace=True)\n",
    "\n",
    "precincts = precincts.to_crs(epsg=32616) # set crs to UTM"
   ]
  },
  {
   "cell_type": "markdown",
   "id": "65ec70fb",
   "metadata": {},
   "source": [
    "2020 State-wide offices in AL for election with both a Democratic and Republican candidate:\n",
    "- President\n",
    "- Sentate\n",
    "- Alabama Public Service Commission President"
   ]
  },
  {
   "cell_type": "code",
   "execution_count": 3,
   "id": "4d79c2fa",
   "metadata": {},
   "outputs": [],
   "source": [
    "precincts = precincts[['GEOID20', 'G20PRERTRU', 'G20PREDBID', 'G20PRELJOR', 'G20PREOWRI', 'G20USSRTUB', 'G20USSDJON', 'G20USSOWRI', 'G20PSCRCAV', 'G20PSCDCAS', 'G20PSCOWRI', 'geometry']]"
   ]
  },
  {
   "cell_type": "code",
   "execution_count": 4,
   "id": "b4541337",
   "metadata": {},
   "outputs": [],
   "source": [
    "precincts = precincts[['GEOID20', 'G20PRERTRU', 'G20PREDBID', 'G20PRELJOR', 'G20PREOWRI', 'G20USSRTUB', 'G20USSDJON', 'G20USSOWRI', 'G20PSCRCAV', 'G20PSCDCAS', 'G20PSCOWRI', 'geometry']]\n",
    "\n",
    "# preprocessing\n",
    "precincts.rename(columns={col: col[:-3] for col in [col for col in precincts.columns if col.startswith('G') and col!='GEOID']}, inplace=True)\n",
    "precincts['G20PREDO'] = precincts['G20PREL'] + precincts['G20PREO']\n",
    "precincts = precincts.drop(columns=['G20PREL', 'G20PREO'])\n",
    "# get vote totals for each office\n",
    "pres_cols = ['G20PRER', 'G20PRED', 'G20PREDO']\n",
    "precincts['G20PRE_TOT'] = precincts[pres_cols].sum(axis=1)\n",
    "\n",
    "senate_cols = ['G20USSR', 'G20USSD', 'G20USSO']\n",
    "precincts['G20USS_TOT'] = precincts[senate_cols].sum(axis=1)\n",
    "\n",
    "senate_cols = ['G20PSCR', 'G20PSCD', 'G20PSCO']\n",
    "precincts['G20PSC_TOT'] = precincts[senate_cols].sum(axis=1)"
   ]
  },
  {
   "cell_type": "code",
   "execution_count": 5,
   "id": "d7440da4",
   "metadata": {},
   "outputs": [],
   "source": [
    "precincts['prop_PRER']= precincts['G20PRER']/ precincts['G20PRE_TOT']\n",
    "precincts['prop_PRED']= precincts['G20PRED']/ precincts['G20PRE_TOT']\n",
    "\n",
    "precincts['prop_USSR']= precincts['G20USSR']/ precincts['G20USS_TOT']\n",
    "precincts['prop_USSD']= precincts['G20USSD']/ precincts['G20USS_TOT']\n",
    "\n",
    "precincts['prop_PSCR']= precincts['G20PSCR']/ precincts['G20PSC_TOT']\n",
    "precincts['prop_PSCD']= precincts['G20PSCD']/ precincts['G20PSC_TOT']"
   ]
  },
  {
   "cell_type": "markdown",
   "id": "2c0ea038",
   "metadata": {},
   "source": [
    "### Load Census Blocks"
   ]
  },
  {
   "cell_type": "code",
   "execution_count": 6,
   "id": "adc63052",
   "metadata": {},
   "outputs": [],
   "source": [
    "blocks = gp.read_file('raw-data/2020_census_blocks/al_b_2020_bound/al_b_2020_bound.shp', mask=precincts)\n",
    "blocks.rename(columns={\"GEOID20\": \"GEOID\"}, inplace=True)\n",
    "blocks = blocks[blocks.COUNTYFP20 == '073']\n",
    "blocks = blocks.to_crs(epsg=32616) # set crs to UTM\n",
    "\n",
    "\n",
    "demo_blocks = pd.read_csv('raw-data/2020_census_blocks/al_pl2020_b/al_pl2020_b.csv', low_memory=False)\n",
    "demo_blocks['GEOID'] = demo_blocks['GEOID'].str.slice(-15)"
   ]
  },
  {
   "cell_type": "markdown",
   "id": "43297039",
   "metadata": {},
   "source": [
    "Census Public Law 94-171 fields: https://www2.census.gov/programs-surveys/decennial/2020/technical-documentation/complete-tech-docs/summary-file/2020Census_PL94_171Redistricting_StatesTechDoc_English.pdf\n",
    "\n",
    "- P0040001 = total population 18 and over\n",
    "- P0040002 = total population 18 and over: hispanic or latino\n",
    "- P0040005 = total population 18 and over: white alone, not hispanic or latino\n",
    "- P0040006 = total population 18 and over: black alone, not hispanic or latino\n",
    "- P0040007 = total population 18 and over: american indian and alaska native alone, not hispanic or latino\n",
    "- P0040008 = total population 18 and over: asian alone, not hispanic or latino\n",
    "- P0040009 = total population 18 and over: native hawaiian and other pacific islander alone, not hispanic or latino\n",
    "- P0040010 = total population 18 and over: some other, not hispanic or latino\n",
    "- P0040011 = total population 18 and over: two or more, not hispanic or latino"
   ]
  },
  {
   "cell_type": "code",
   "execution_count": 7,
   "id": "6802a04e",
   "metadata": {},
   "outputs": [],
   "source": [
    "# Attach demographic data to blocks\n",
    "demo_cols = ['P0010001', 'P0040001', 'P0040002', 'P0040005', 'P0040006', 'P0040007', 'P0040008', 'P0040009', 'P0040010', 'P0040011']\n",
    "\n",
    "blocks = \\\n",
    "  blocks\\\n",
    "  .merge(demo_blocks[['GEOID']+demo_cols], how='left', on='GEOID')\\\n",
    "  [['GEOID']+demo_cols+['geometry']]"
   ]
  },
  {
   "cell_type": "code",
   "execution_count": 8,
   "id": "703d3b25",
   "metadata": {},
   "outputs": [
    {
     "data": {
      "text/plain": [
       "674721"
      ]
     },
     "execution_count": 8,
     "metadata": {},
     "output_type": "execute_result"
    }
   ],
   "source": [
    "# population check\n",
    "blocks['P0010001'].sum() # 674,721"
   ]
  },
  {
   "cell_type": "markdown",
   "id": "a6587de5",
   "metadata": {},
   "source": [
    "### Prorate population data to precincts"
   ]
  },
  {
   "cell_type": "code",
   "execution_count": 9,
   "id": "fecf86f6",
   "metadata": {},
   "outputs": [],
   "source": [
    "blocks_to_precincts_assignment = maup.assign(blocks, precincts)\n",
    "precincts[demo_cols] = blocks[demo_cols].groupby(blocks_to_precincts_assignment).sum()"
   ]
  },
  {
   "cell_type": "code",
   "execution_count": 10,
   "id": "95bcc07d",
   "metadata": {},
   "outputs": [
    {
     "name": "stdout",
     "output_type": "stream",
     "text": [
      "674721\n"
     ]
    },
    {
     "data": {
      "text/plain": [
       "True"
      ]
     },
     "execution_count": 10,
     "metadata": {},
     "output_type": "execute_result"
    }
   ],
   "source": [
    "# population check\n",
    "print(precincts['P0010001'].sum())\n",
    "precincts['P0010001'].sum() == blocks['P0010001'].sum() "
   ]
  },
  {
   "cell_type": "code",
   "execution_count": 11,
   "id": "b557f5e5",
   "metadata": {},
   "outputs": [
    {
     "data": {
      "text/html": [
       "<div>\n",
       "<style scoped>\n",
       "    .dataframe tbody tr th:only-of-type {\n",
       "        vertical-align: middle;\n",
       "    }\n",
       "\n",
       "    .dataframe tbody tr th {\n",
       "        vertical-align: top;\n",
       "    }\n",
       "\n",
       "    .dataframe thead th {\n",
       "        text-align: right;\n",
       "    }\n",
       "</style>\n",
       "<table border=\"1\" class=\"dataframe\">\n",
       "  <thead>\n",
       "    <tr style=\"text-align: right;\">\n",
       "      <th></th>\n",
       "      <th>GEOI</th>\n",
       "      <th>G20PRER</th>\n",
       "      <th>G20PRED</th>\n",
       "      <th>G20USSR</th>\n",
       "      <th>G20USSD</th>\n",
       "      <th>G20USSO</th>\n",
       "      <th>G20PSCR</th>\n",
       "      <th>G20PSCD</th>\n",
       "      <th>G20PSCO</th>\n",
       "      <th>geometry</th>\n",
       "      <th>...</th>\n",
       "      <th>P0010001</th>\n",
       "      <th>P0040001</th>\n",
       "      <th>P0040002</th>\n",
       "      <th>P0040005</th>\n",
       "      <th>P0040006</th>\n",
       "      <th>P0040007</th>\n",
       "      <th>P0040008</th>\n",
       "      <th>P0040009</th>\n",
       "      <th>P0040010</th>\n",
       "      <th>P0040011</th>\n",
       "    </tr>\n",
       "  </thead>\n",
       "  <tbody>\n",
       "    <tr>\n",
       "      <th>0</th>\n",
       "      <td>01073005170</td>\n",
       "      <td>1287</td>\n",
       "      <td>1311</td>\n",
       "      <td>1228</td>\n",
       "      <td>1465</td>\n",
       "      <td>12</td>\n",
       "      <td>1324</td>\n",
       "      <td>1252</td>\n",
       "      <td>3</td>\n",
       "      <td>POLYGON ((518375.238 3702058.931, 518215.629 3...</td>\n",
       "      <td>...</td>\n",
       "      <td>4849</td>\n",
       "      <td>3382</td>\n",
       "      <td>131</td>\n",
       "      <td>2795</td>\n",
       "      <td>250</td>\n",
       "      <td>5</td>\n",
       "      <td>107</td>\n",
       "      <td>0</td>\n",
       "      <td>4</td>\n",
       "      <td>90</td>\n",
       "    </tr>\n",
       "    <tr>\n",
       "      <th>1</th>\n",
       "      <td>01073005150</td>\n",
       "      <td>1311</td>\n",
       "      <td>1019</td>\n",
       "      <td>1225</td>\n",
       "      <td>1188</td>\n",
       "      <td>16</td>\n",
       "      <td>1317</td>\n",
       "      <td>1023</td>\n",
       "      <td>6</td>\n",
       "      <td>POLYGON ((527413.935 3710128.995, 527402.089 3...</td>\n",
       "      <td>...</td>\n",
       "      <td>4787</td>\n",
       "      <td>4197</td>\n",
       "      <td>231</td>\n",
       "      <td>3472</td>\n",
       "      <td>340</td>\n",
       "      <td>6</td>\n",
       "      <td>51</td>\n",
       "      <td>0</td>\n",
       "      <td>0</td>\n",
       "      <td>97</td>\n",
       "    </tr>\n",
       "    <tr>\n",
       "      <th>2</th>\n",
       "      <td>01073005130</td>\n",
       "      <td>1797</td>\n",
       "      <td>772</td>\n",
       "      <td>1713</td>\n",
       "      <td>938</td>\n",
       "      <td>13</td>\n",
       "      <td>1842</td>\n",
       "      <td>719</td>\n",
       "      <td>2</td>\n",
       "      <td>POLYGON ((526122.583 3704381.652, 526120.684 3...</td>\n",
       "      <td>...</td>\n",
       "      <td>4752</td>\n",
       "      <td>3499</td>\n",
       "      <td>44</td>\n",
       "      <td>3325</td>\n",
       "      <td>21</td>\n",
       "      <td>2</td>\n",
       "      <td>42</td>\n",
       "      <td>0</td>\n",
       "      <td>6</td>\n",
       "      <td>59</td>\n",
       "    </tr>\n",
       "    <tr>\n",
       "      <th>3</th>\n",
       "      <td>01073005120</td>\n",
       "      <td>1359</td>\n",
       "      <td>905</td>\n",
       "      <td>1322</td>\n",
       "      <td>1003</td>\n",
       "      <td>4</td>\n",
       "      <td>1354</td>\n",
       "      <td>888</td>\n",
       "      <td>1</td>\n",
       "      <td>POLYGON ((519684.961 3699390.017, 519684.490 3...</td>\n",
       "      <td>...</td>\n",
       "      <td>5100</td>\n",
       "      <td>3893</td>\n",
       "      <td>143</td>\n",
       "      <td>2987</td>\n",
       "      <td>357</td>\n",
       "      <td>4</td>\n",
       "      <td>303</td>\n",
       "      <td>1</td>\n",
       "      <td>15</td>\n",
       "      <td>83</td>\n",
       "    </tr>\n",
       "    <tr>\n",
       "      <th>4</th>\n",
       "      <td>01073005100</td>\n",
       "      <td>1614</td>\n",
       "      <td>1561</td>\n",
       "      <td>1584</td>\n",
       "      <td>1726</td>\n",
       "      <td>13</td>\n",
       "      <td>1647</td>\n",
       "      <td>1556</td>\n",
       "      <td>6</td>\n",
       "      <td>POLYGON ((516918.913 3700841.038, 516917.627 3...</td>\n",
       "      <td>...</td>\n",
       "      <td>5828</td>\n",
       "      <td>4323</td>\n",
       "      <td>155</td>\n",
       "      <td>3271</td>\n",
       "      <td>538</td>\n",
       "      <td>3</td>\n",
       "      <td>204</td>\n",
       "      <td>0</td>\n",
       "      <td>23</td>\n",
       "      <td>129</td>\n",
       "    </tr>\n",
       "  </tbody>\n",
       "</table>\n",
       "<p>5 rows × 30 columns</p>\n",
       "</div>"
      ],
      "text/plain": [
       "          GEOI  G20PRER  G20PRED  G20USSR  G20USSD  G20USSO  G20PSCR  G20PSCD  \\\n",
       "0  01073005170     1287     1311     1228     1465       12     1324     1252   \n",
       "1  01073005150     1311     1019     1225     1188       16     1317     1023   \n",
       "2  01073005130     1797      772     1713      938       13     1842      719   \n",
       "3  01073005120     1359      905     1322     1003        4     1354      888   \n",
       "4  01073005100     1614     1561     1584     1726       13     1647     1556   \n",
       "\n",
       "   G20PSCO                                           geometry  ...  P0010001  \\\n",
       "0        3  POLYGON ((518375.238 3702058.931, 518215.629 3...  ...      4849   \n",
       "1        6  POLYGON ((527413.935 3710128.995, 527402.089 3...  ...      4787   \n",
       "2        2  POLYGON ((526122.583 3704381.652, 526120.684 3...  ...      4752   \n",
       "3        1  POLYGON ((519684.961 3699390.017, 519684.490 3...  ...      5100   \n",
       "4        6  POLYGON ((516918.913 3700841.038, 516917.627 3...  ...      5828   \n",
       "\n",
       "   P0040001  P0040002  P0040005  P0040006  P0040007  P0040008  P0040009  \\\n",
       "0      3382       131      2795       250         5       107         0   \n",
       "1      4197       231      3472       340         6        51         0   \n",
       "2      3499        44      3325        21         2        42         0   \n",
       "3      3893       143      2987       357         4       303         1   \n",
       "4      4323       155      3271       538         3       204         0   \n",
       "\n",
       "   P0040010  P0040011  \n",
       "0         4        90  \n",
       "1         0        97  \n",
       "2         6        59  \n",
       "3        15        83  \n",
       "4        23       129  \n",
       "\n",
       "[5 rows x 30 columns]"
      ]
     },
     "execution_count": 11,
     "metadata": {},
     "output_type": "execute_result"
    }
   ],
   "source": [
    "precincts.head()"
   ]
  },
  {
   "cell_type": "code",
   "execution_count": 13,
   "id": "cc0ac80d",
   "metadata": {},
   "outputs": [],
   "source": [
    "precincts.to_file('output-data/al_jefferson-2020_precincts.shp', driver='ESRI Shapefile')"
   ]
  },
  {
   "cell_type": "code",
   "execution_count": null,
   "id": "44ccd9b2",
   "metadata": {},
   "outputs": [],
   "source": []
  }
 ],
 "metadata": {
  "kernelspec": {
   "display_name": "Presentation-Ensembles-DOpX2fvx",
   "language": "python",
   "name": "python3"
  },
  "language_info": {
   "codemirror_mode": {
    "name": "ipython",
    "version": 3
   },
   "file_extension": ".py",
   "mimetype": "text/x-python",
   "name": "python",
   "nbconvert_exporter": "python",
   "pygments_lexer": "ipython3",
   "version": "3.11.3"
  }
 },
 "nbformat": 4,
 "nbformat_minor": 5
}
