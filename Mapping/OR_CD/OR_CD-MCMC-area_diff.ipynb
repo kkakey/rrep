{
 "cells": [
  {
   "cell_type": "markdown",
   "metadata": {},
   "source": [
    "# Redistricting - Oregon Congressional"
   ]
  },
  {
   "cell_type": "markdown",
   "metadata": {},
   "source": [
    "### Code used to generate a sample of redistricting plans that optimize for a plan with less precinct splits"
   ]
  },
  {
   "cell_type": "markdown",
   "metadata": {},
   "source": [
    "*******************"
   ]
  },
  {
   "cell_type": "markdown",
   "metadata": {},
   "source": [
    "- Least changes map using 2020 5-year ACS population data\n",
    "- Proritizing the performance of majority-minority districts using 2020 election data"
   ]
  },
  {
   "cell_type": "code",
   "execution_count": 6,
   "metadata": {},
   "outputs": [],
   "source": [
    "import maup\n",
    "import pandas as pd\n",
    "import geopandas as gp\n",
    "import random\n",
    "import json\n",
    "import warnings\n",
    "warnings.filterwarnings('ignore')"
   ]
  },
  {
   "cell_type": "markdown",
   "metadata": {},
   "source": [
    "**Load data**"
   ]
  },
  {
   "cell_type": "code",
   "execution_count": 7,
   "metadata": {},
   "outputs": [],
   "source": [
    "current_cd = gp.read_file(\"./raw-data/current_map/district-shapes/POLYGON.shp\")\n",
    "acs_bg_shp = gp.read_file(\"./raw-data/or_race_2022_bg-acs_shp/or_race_2022_bg.shp\")\n",
    "prec_2020 = gp.read_file(\"./raw-data/or_vest_20/or_vest_20.shp\")\n",
    "blocks_2020 = gp.read_file(\"./raw-data/or_pl2020_b/or_pl2020_b.shp\")\n",
    "blocks_cvap_2022 = pd.read_csv(\"./raw-data/or_cvap_2022_2020_b/or_cvap_2022_2020_b.csv\")"
   ]
  },
  {
   "cell_type": "code",
   "execution_count": 8,
   "metadata": {},
   "outputs": [],
   "source": [
    "current_cd = current_cd.to_crs(epsg=32610)\n",
    "acs_bg_shp = acs_bg_shp.to_crs(epsg=32610)\n",
    "prec_2020 = prec_2020.to_crs(epsg=32610)\n",
    "blocks_2020 = blocks_2020.to_crs(epsg=32610)\n",
    "\n",
    "current_cd[\"geometry\"] = current_cd.buffer(0)\n",
    "prec_2020[\"geometry\"] = prec_2020.buffer(0)\n",
    "blocks_2020[\"geometry\"] = blocks_2020.buffer(0)"
   ]
  },
  {
   "cell_type": "code",
   "execution_count": 9,
   "metadata": {},
   "outputs": [],
   "source": [
    "# km2\n",
    "current_cd['area_km2'] = current_cd['geometry'].area/ 10**6 \n",
    "blocks_2020['area_km2'] = blocks_2020[\"geometry\"].area/ 10**6 "
   ]
  },
  {
   "cell_type": "code",
   "execution_count": 60,
   "metadata": {},
   "outputs": [
    {
     "data": {
      "text/plain": [
       "255013.9889689173"
      ]
     },
     "execution_count": 60,
     "metadata": {},
     "output_type": "execute_result"
    }
   ],
   "source": [
    "current_cd['area_km2'].sum()"
   ]
  },
  {
   "cell_type": "code",
   "execution_count": 10,
   "metadata": {},
   "outputs": [],
   "source": [
    "### join CVAP data to blocks\n",
    "blocks_cvap_2022.GEOID20 = blocks_cvap_2022.GEOID20.astype(str)\n",
    "blocks_2020= blocks_2020.merge(blocks_cvap_2022, on='GEOID20', how='left')"
   ]
  },
  {
   "cell_type": "markdown",
   "metadata": {},
   "source": [
    "### Prorate data from ACS 2022 Block-Groups to census blocks"
   ]
  },
  {
   "cell_type": "code",
   "execution_count": 11,
   "metadata": {},
   "outputs": [],
   "source": [
    "pop_columns = [col for col in acs_bg_shp.columns if \"22\" in col]\n",
    "bg_to_blocks_assignment = maup.assign(blocks_2020, acs_bg_shp)\n",
    "# Prorate the ACS totals according to each block's share of the overall block group population:\n",
    "weights = blocks_2020.P0010001  / bg_to_blocks_assignment.map(blocks_2020.P0010001.groupby(bg_to_blocks_assignment).sum()).fillna(0)\n",
    "prorated = maup.prorate(bg_to_blocks_assignment, acs_bg_shp[pop_columns], weights)\n",
    "\n",
    "blocks_2020[pop_columns] = prorated"
   ]
  },
  {
   "cell_type": "markdown",
   "metadata": {},
   "source": [
    "### Assign blocks to current enacted congressional plan"
   ]
  },
  {
   "cell_type": "code",
   "execution_count": 12,
   "metadata": {},
   "outputs": [],
   "source": [
    "bg_to_cd = maup.assign(blocks_2020, current_cd)\n",
    "blocks_2020['current_cd'] = bg_to_cd"
   ]
  },
  {
   "cell_type": "code",
   "execution_count": 13,
   "metadata": {},
   "outputs": [
    {
     "data": {
      "text/plain": [
       "current_cd\n",
       "0    703293.192844\n",
       "1    705168.536867\n",
       "2    700496.347280\n",
       "3    705867.371823\n",
       "4    708473.095047\n",
       "5    706075.456140\n",
       "Name: TOT_POP22, dtype: float64"
      ]
     },
     "execution_count": 13,
     "metadata": {},
     "output_type": "execute_result"
    }
   ],
   "source": [
    "# this pretty much matches Dave's Redistricting counts!\n",
    "blocks_2020.groupby('current_cd').TOT_POP22.sum()"
   ]
  },
  {
   "cell_type": "markdown",
   "metadata": {},
   "source": [
    "### Prorate Election Data from precincts to blocks"
   ]
  },
  {
   "cell_type": "code",
   "execution_count": 14,
   "metadata": {},
   "outputs": [
    {
     "data": {
      "text/html": [
       "<div>\n",
       "<style scoped>\n",
       "    .dataframe tbody tr th:only-of-type {\n",
       "        vertical-align: middle;\n",
       "    }\n",
       "\n",
       "    .dataframe tbody tr th {\n",
       "        vertical-align: top;\n",
       "    }\n",
       "\n",
       "    .dataframe thead th {\n",
       "        text-align: right;\n",
       "    }\n",
       "</style>\n",
       "<table border=\"1\" class=\"dataframe\">\n",
       "  <thead>\n",
       "    <tr style=\"text-align: right;\">\n",
       "      <th></th>\n",
       "      <th>PRECINCT</th>\n",
       "      <th>G20PREDBID</th>\n",
       "      <th>G20PRERTRU</th>\n",
       "      <th>G20PRELJOR</th>\n",
       "      <th>G20PREGHAW</th>\n",
       "      <th>G20PREPHUN</th>\n",
       "      <th>G20PREOWRI</th>\n",
       "      <th>G20PREDOTH</th>\n",
       "    </tr>\n",
       "  </thead>\n",
       "  <tbody>\n",
       "    <tr>\n",
       "      <th>0</th>\n",
       "      <td>4506</td>\n",
       "      <td>2656</td>\n",
       "      <td>717</td>\n",
       "      <td>30</td>\n",
       "      <td>32</td>\n",
       "      <td>6</td>\n",
       "      <td>24</td>\n",
       "      <td>92</td>\n",
       "    </tr>\n",
       "    <tr>\n",
       "      <th>1</th>\n",
       "      <td>4409</td>\n",
       "      <td>1613</td>\n",
       "      <td>473</td>\n",
       "      <td>24</td>\n",
       "      <td>22</td>\n",
       "      <td>11</td>\n",
       "      <td>15</td>\n",
       "      <td>72</td>\n",
       "    </tr>\n",
       "    <tr>\n",
       "      <th>2</th>\n",
       "      <td>4404</td>\n",
       "      <td>8264</td>\n",
       "      <td>907</td>\n",
       "      <td>106</td>\n",
       "      <td>68</td>\n",
       "      <td>32</td>\n",
       "      <td>80</td>\n",
       "      <td>286</td>\n",
       "    </tr>\n",
       "    <tr>\n",
       "      <th>3</th>\n",
       "      <td>4502</td>\n",
       "      <td>3948</td>\n",
       "      <td>482</td>\n",
       "      <td>49</td>\n",
       "      <td>32</td>\n",
       "      <td>9</td>\n",
       "      <td>27</td>\n",
       "      <td>117</td>\n",
       "    </tr>\n",
       "    <tr>\n",
       "      <th>4</th>\n",
       "      <td>4501</td>\n",
       "      <td>9190</td>\n",
       "      <td>785</td>\n",
       "      <td>78</td>\n",
       "      <td>36</td>\n",
       "      <td>18</td>\n",
       "      <td>57</td>\n",
       "      <td>189</td>\n",
       "    </tr>\n",
       "    <tr>\n",
       "      <th>...</th>\n",
       "      <td>...</td>\n",
       "      <td>...</td>\n",
       "      <td>...</td>\n",
       "      <td>...</td>\n",
       "      <td>...</td>\n",
       "      <td>...</td>\n",
       "      <td>...</td>\n",
       "      <td>...</td>\n",
       "    </tr>\n",
       "    <tr>\n",
       "      <th>1326</th>\n",
       "      <td>201</td>\n",
       "      <td>2656</td>\n",
       "      <td>1465</td>\n",
       "      <td>84</td>\n",
       "      <td>13</td>\n",
       "      <td>2</td>\n",
       "      <td>35</td>\n",
       "      <td>134</td>\n",
       "    </tr>\n",
       "    <tr>\n",
       "      <th>1327</th>\n",
       "      <td>435</td>\n",
       "      <td>2335</td>\n",
       "      <td>1608</td>\n",
       "      <td>82</td>\n",
       "      <td>18</td>\n",
       "      <td>8</td>\n",
       "      <td>49</td>\n",
       "      <td>157</td>\n",
       "    </tr>\n",
       "    <tr>\n",
       "      <th>1328</th>\n",
       "      <td>425</td>\n",
       "      <td>452</td>\n",
       "      <td>550</td>\n",
       "      <td>15</td>\n",
       "      <td>4</td>\n",
       "      <td>1</td>\n",
       "      <td>9</td>\n",
       "      <td>29</td>\n",
       "    </tr>\n",
       "    <tr>\n",
       "      <th>1329</th>\n",
       "      <td>13</td>\n",
       "      <td>1091</td>\n",
       "      <td>2040</td>\n",
       "      <td>58</td>\n",
       "      <td>17</td>\n",
       "      <td>5</td>\n",
       "      <td>18</td>\n",
       "      <td>98</td>\n",
       "    </tr>\n",
       "    <tr>\n",
       "      <th>1330</th>\n",
       "      <td>11</td>\n",
       "      <td>0</td>\n",
       "      <td>1</td>\n",
       "      <td>0</td>\n",
       "      <td>0</td>\n",
       "      <td>0</td>\n",
       "      <td>0</td>\n",
       "      <td>0</td>\n",
       "    </tr>\n",
       "  </tbody>\n",
       "</table>\n",
       "<p>1331 rows × 8 columns</p>\n",
       "</div>"
      ],
      "text/plain": [
       "     PRECINCT  G20PREDBID  G20PRERTRU  G20PRELJOR  G20PREGHAW  G20PREPHUN  \\\n",
       "0        4506        2656         717          30          32           6   \n",
       "1        4409        1613         473          24          22          11   \n",
       "2        4404        8264         907         106          68          32   \n",
       "3        4502        3948         482          49          32           9   \n",
       "4        4501        9190         785          78          36          18   \n",
       "...       ...         ...         ...         ...         ...         ...   \n",
       "1326      201        2656        1465          84          13           2   \n",
       "1327      435        2335        1608          82          18           8   \n",
       "1328      425         452         550          15           4           1   \n",
       "1329       13        1091        2040          58          17           5   \n",
       "1330       11           0           1           0           0           0   \n",
       "\n",
       "      G20PREOWRI  G20PREDOTH  \n",
       "0             24          92  \n",
       "1             15          72  \n",
       "2             80         286  \n",
       "3             27         117  \n",
       "4             57         189  \n",
       "...          ...         ...  \n",
       "1326          35         134  \n",
       "1327          49         157  \n",
       "1328           9          29  \n",
       "1329          18          98  \n",
       "1330           0           0  \n",
       "\n",
       "[1331 rows x 8 columns]"
      ]
     },
     "execution_count": 14,
     "metadata": {},
     "output_type": "execute_result"
    }
   ],
   "source": [
    "# OTHER vote column\n",
    "prec_2020['G20PREDOTH'] = prec_2020[[col for col in prec_2020.columns if \"PRE\" in col and col not in ('G20PREDBID', 'G20PRERTRU', 'PRECINCT')]].sum(axis=1)\n",
    "prec_2020[[col for col in prec_2020.columns if \"PRE\" in col]]"
   ]
  },
  {
   "cell_type": "code",
   "execution_count": 15,
   "metadata": {},
   "outputs": [],
   "source": [
    "elec_columns = ['G20PREDBID', 'G20PRERTRU', 'G20PREDOTH']\n",
    "prec_2020[elec_columns] = prec_2020[elec_columns].astype(int)\n",
    "assignment = maup.assign(blocks_2020, prec_2020)\n",
    "weights_elec = blocks_2020.P0010001  / assignment.map(blocks_2020.P0010001.groupby(assignment).sum()).fillna(0)\n",
    "prorated_elec = maup.prorate(assignment, prec_2020[elec_columns], weights_elec)\n",
    "\n",
    "blocks_2020[elec_columns] = prorated_elec"
   ]
  },
  {
   "cell_type": "code",
   "execution_count": 95,
   "metadata": {},
   "outputs": [],
   "source": [
    "blocks_2020['CVAP_POC'] = blocks_2020[['CVAP_2OM22', 'CVAP_HSP22', 'CVAP_AIA22', 'CVAP_ASN22', 'CVAP_BLK22']].sum(axis=1)"
   ]
  },
  {
   "cell_type": "code",
   "execution_count": 96,
   "metadata": {},
   "outputs": [
    {
     "data": {
      "text/plain": [
       "0.1847760231019207"
      ]
     },
     "execution_count": 96,
     "metadata": {},
     "output_type": "execute_result"
    }
   ],
   "source": [
    "blocks_2020['CVAP_POC'].sum() / blocks_2020['CVAP_TOT22'].sum()"
   ]
  },
  {
   "cell_type": "code",
   "execution_count": 17,
   "metadata": {},
   "outputs": [],
   "source": [
    "# blocks_2020.to_file(\"./output-data/blocks_2020-w_2022_acs_attached.shp\")"
   ]
  },
  {
   "cell_type": "markdown",
   "metadata": {},
   "source": [
    "### MCMC Prep"
   ]
  },
  {
   "cell_type": "code",
   "execution_count": 18,
   "metadata": {},
   "outputs": [],
   "source": [
    "import networkx as nx\n",
    "from functools import partial\n",
    "import matplotlib.pyplot as plt\n",
    "import json\n",
    "import numpy as np\n",
    "plt.style.use('ggplot')\n",
    "\n",
    "from gerrychain import (\n",
    "    Election,\n",
    "    Graph,\n",
    "    MarkovChain,\n",
    "    Partition,\n",
    "    accept,\n",
    "    constraints,\n",
    "    updaters,\n",
    ")\n",
    "from gerrychain.metrics import efficiency_gap, mean_median, partisan_gini\n",
    "from gerrychain.tree import bipartition_tree\n",
    "from gerrychain.optimization import SingleMetricOptimizer, Gingleator\n",
    "from gerrychain.proposals import recom, propose_random_flip\n",
    "from gerrychain.updaters import Tally\n",
    "from gerrychain.constraints import contiguous\n",
    "from gerrytools.scoring import gingles_districts, demographic_shares, summarize\n",
    "random.seed(99)"
   ]
  },
  {
   "cell_type": "code",
   "execution_count": 19,
   "metadata": {},
   "outputs": [],
   "source": [
    "state_abbr = \"OH\"\n",
    "state_fip = \"39\"\n",
    "num_districts = 6\n",
    "unique_label = \"GEOID20\"\n",
    "pop_col = \"TOT_POP22\""
   ]
  },
  {
   "cell_type": "code",
   "execution_count": 20,
   "metadata": {},
   "outputs": [],
   "source": [
    "# Fill NA values with 0\n",
    "blocks_2020[blocks_2020.columns[blocks_2020.isna().any()].tolist()] = blocks_2020[blocks_2020.columns[blocks_2020.isna().any()].tolist()].fillna(0)"
   ]
  },
  {
   "cell_type": "code",
   "execution_count": 22,
   "metadata": {},
   "outputs": [],
   "source": [
    "# need to subset to only necessary columns\n",
    "blocks_2020_select = blocks_2020[['GEOID20', 'current_cd', 'area_km2', 'TOT_POP22', 'CVAP_TOT22', 'CVAP_POC', 'G20PREDBID', 'G20PRERTRU', 'G20PREDOTH', 'geometry']]"
   ]
  },
  {
   "cell_type": "code",
   "execution_count": 23,
   "metadata": {},
   "outputs": [],
   "source": [
    "# create graph\n",
    "graph = Graph.from_geodataframe(blocks_2020_select)\n",
    "graph.add_data(blocks_2020_select,list(blocks_2020_select))"
   ]
  },
  {
   "cell_type": "code",
   "execution_count": 24,
   "metadata": {},
   "outputs": [
    {
     "name": "stdout",
     "output_type": "stream",
     "text": [
      "4229373.999999991\n"
     ]
    },
    {
     "data": {
      "text/plain": [
       "4229374.0"
      ]
     },
     "execution_count": 24,
     "metadata": {},
     "output_type": "execute_result"
    }
   ],
   "source": [
    "# population check\n",
    "TOTPOP = sum(graph.nodes()[n]['TOT_POP22'] for n in graph.nodes())\n",
    "print(TOTPOP)\n",
    "blocks_2020.TOT_POP22.sum()"
   ]
  },
  {
   "cell_type": "code",
   "execution_count": 25,
   "metadata": {},
   "outputs": [],
   "source": [
    "### Custom updaters\n",
    "import polars as pl\n",
    "class PartValue:\n",
    "    def __init__(self, col=None, state=state_abbr, num=None):\n",
    "        self.col = col\n",
    "        self.state = state\n",
    "        self.num = num\n",
    "\n",
    "    def get_val(self, partition):\n",
    "        return list(map(lambda x: partition.graph.nodes[x].get(self.col), range(blocks_2020.shape[0])))\n",
    "    \n",
    "    def new_districts(partition):\n",
    "        return list(map(lambda x: partition.assignment[x], range(blocks_2020.shape[0])))\n",
    "    \n",
    "    def displacement(self, partition):\n",
    "        c = []\n",
    "        for inx, (i,j) in enumerate(zip(partition['new_districts'], partition['current_cds'])):\n",
    "            if int(i) != int(j):\n",
    "                c.append(partition.graph.nodes[inx].get(self.col))\n",
    "        return(sum(c))\n",
    "    \n",
    "class SavePart:\n",
    "    def __init__(self, state=state_abbr, num=None, dir = None):\n",
    "        self.state = state\n",
    "        self.num = num\n",
    "        self.dir = dir\n",
    "        \n",
    "    def save_assignment(self, partition):\n",
    "        geos_ids = PartValue(col='GEOID20').get_val(partition)\n",
    "        new_cds = PartValue.new_districts(partition)\n",
    "        assignment_df = pl.DataFrame({\n",
    "                \"GEOID20\": geos_ids,\n",
    "                \"CD\": new_cds}\n",
    "            )\n",
    "        output_name = f\"{self.state}_part_{str(self.num)}.txt\",\n",
    "        if self.dir is not None:\n",
    "            output_name = f\"{self.dir}/{self.state}_part_{str(self.num)}.txt\"\n",
    "        return(assignment_df.write_csv(output_name, separator=\",\"))\n"
   ]
  },
  {
   "cell_type": "code",
   "execution_count": 26,
   "metadata": {},
   "outputs": [],
   "source": [
    "updater = {\n",
    "    \"population\": updaters.Tally(\"TOT_POP22\", alias=\"population\"),\n",
    "    \"cvap\": updaters.Tally(\"CVAP_TOT22\", alias=\"cvap\"),\n",
    "    \"cvap_poc\": updaters.Tally(\"CVAP_POC\", alias=\"cvap_poc\"),\n",
    "    \"2020_pres\" : Election(\"2020_pres\", {\"G20PRERTRU\":\"G20PRERTRU\",\"G20PREDBID\":\"G20PREDBID\",\"G20PREDOTH\":\"G20PREDOTH\"}, alias=\"2020_pres\"),\n",
    "    \"area\": updaters.Tally(\"area_km2\", alias=\"area\"),\n",
    "    \"new_districts\": PartValue.new_districts,\n",
    "    \"current_cds\" : PartValue(col='current_cd').get_val,\n",
    "    \"pop_change\" : PartValue(col='TOT_POP22').displacement,\n",
    "    \"area_change\" : PartValue(col='area_km2').displacement,\n",
    "    \n",
    "}\n",
    "\n",
    "initial_partition = Partition(\n",
    "    graph,\n",
    "    assignment=\"current_cd\",\n",
    "    updaters=updater\n",
    ")\n",
    "\n",
    "ideal_population = sum(initial_partition[\"population\"].values()) / len(initial_partition)\n",
    "\n",
    "proposal = partial(\n",
    "    # propose_random_flip,\n",
    "    recom,\n",
    "    pop_col=\"TOT_POP22\",\n",
    "    pop_target=ideal_population,\n",
    "    epsilon=0.0075,\n",
    "    node_repeats=2,\n",
    "    method = partial(\n",
    "        bipartition_tree,\n",
    "        max_attempts=5,\n",
    "        allow_pair_reselection=True \n",
    "    )\n",
    ")"
   ]
  },
  {
   "cell_type": "markdown",
   "metadata": {},
   "source": [
    "### Area change optimizer -- optimize for plans that minimize area displacement"
   ]
  },
  {
   "cell_type": "code",
   "execution_count": null,
   "metadata": {},
   "outputs": [],
   "source": [
    "area_diff = lambda part: sum([part.graph.nodes[inx].get('area_km2') for inx, (i,j) in enumerate(zip(part['new_districts'], part['current_cds'])) if int(i) != int(j)])\n",
    "\n",
    "optimizer_area = SingleMetricOptimizer(\n",
    "    proposal=proposal,\n",
    "    constraints=[contiguous],\n",
    "    initial_state=initial_partition,\n",
    "    optimization_metric=area_diff,\n",
    "    maximize=False\n",
    ")"
   ]
  },
  {
   "cell_type": "code",
   "execution_count": null,
   "metadata": {},
   "outputs": [],
   "source": [
    "tot_pop = []\n",
    "pop_dev = []\n",
    "cvap_pop = []\n",
    "cvap_poc = []\n",
    "pres20d = []\n",
    "pres20r = []\n",
    "pres20o = []\n",
    "\n",
    "areas = []\n",
    "people_change = []\n",
    "area_change = []\n",
    "\n",
    "gingles_scores = []\n",
    "poc_props = []\n",
    "\n",
    "dem_seats_pres = []\n",
    "dem_seats_lean = []\n",
    "rep_seats_pres = []\n",
    "\n",
    "t = 0\n",
    "min_scores_sb = []\n",
    "with open(\"./output_area_diff/OR_area_output.jsonl\", \"w\") as f:\n",
    "    for i, part in enumerate(optimizer_area.short_bursts(5, 4000, with_progress_bar=True)):\n",
    "        min_scores_sb.append(optimizer_area.best_score)\n",
    "        \n",
    "        tot_pop.append(part[\"population\"])\n",
    "        cvap_pop.append(part[\"cvap\"])\n",
    "        cvap_poc.append(part[\"cvap_poc\"])\n",
    "        \n",
    "        areas.append(part[\"area\"])\n",
    "        people_change.append(part[\"pop_change\"])\n",
    "        area_change.append(part[\"area_change\"])\n",
    "        \n",
    "        dev = abs((min(part[\"population\"].values()) / ideal_population) - (max(part[\"population\"].values()) / ideal_population))\n",
    "        pop_dev.append(dev)\n",
    "        \n",
    "        pres20d.append(part[\"2020_pres\"].percents(\"G20PREDBID\"))\n",
    "        pres20r.append(part[\"2020_pres\"].percents(\"G20PRERTRU\"))\n",
    "        pres20o.append(part[\"2020_pres\"].percents(\"G20PRERTRU\"))\n",
    "        dem_seats_pres.append(part[\"2020_pres\"].wins(\"G20PREDBID\"))\n",
    "        rep_seats_pres.append(part[\"2020_pres\"].wins(\"G20PRERTRU\"))\n",
    "        seat_lean = len([i for i in part[\"2020_pres\"].percents(\"G20PREDBID\") if i <= .55 and i >=.45])\n",
    "        dem_seats_lean.append(seat_lean)\n",
    "        \n",
    "        pp = demographic_shares({\"cvap\": [\"cvap_poc\"]})[0].apply(part)\n",
    "        gd = gingles_districts({\"cvap\": [\"cvap_poc\"]}, threshold=0.5)[0].apply(part)\n",
    "        poc_props.append(pp)\n",
    "        gingles_scores.append(gd)\n",
    "\n",
    "        if (gd > 0) or (part[\"area_change\"] < 20000 and dev < .0050 and seat_lean >=2):\n",
    "            SavePart(num=t, dir='./output_area_diff/').save_assignment(part)\n",
    "            print(t, gd, part[\"area_change\"], dev, seat_lean)\n",
    "\n",
    "        data = {\n",
    "            \"step\": t,\n",
    "            \"populations\": part[\"population\"],\n",
    "            \"areas\": part[\"area\"],\n",
    "            \"areas_change\": part[\"area_change\"],\n",
    "            \"pops_change\":part[\"pop_change\"],\n",
    "            \"cvap_poc_prop\": pp,\n",
    "            \"cvap_poc_tot\": part[\"cvap_poc\"],\n",
    "            \"cvap_tot\": part[\"cvap\"],\n",
    "            \"gingles_districts\" : gd,\n",
    "            \"pres20d\": part[\"2020_pres\"].percents(\"G20PREDBID\"),\n",
    "            \"pres20r\": part[\"2020_pres\"].percents(\"G20PRERTRU\"),\n",
    "            \"pres20o\": part[\"2020_pres\"].percents(\"G20PREDOTH\")\n",
    "        }\n",
    "            \n",
    "        # Add newline character to separate entries in JSONL file\n",
    "        f.write(json.dumps(data) + \"\\n\")\n",
    "        t +=1"
   ]
  },
  {
   "cell_type": "markdown",
   "metadata": {},
   "source": [
    "********************************"
   ]
  },
  {
   "cell_type": "markdown",
   "metadata": {},
   "source": [
    "## Analyze plans"
   ]
  },
  {
   "cell_type": "markdown",
   "metadata": {},
   "source": [
    "### Load in run stats (if kernal restarted)"
   ]
  },
  {
   "cell_type": "code",
   "execution_count": 45,
   "metadata": {},
   "outputs": [],
   "source": [
    "with open('./output_area_diff/OR_area_output.jsonl', 'r') as json_file:\n",
    "    json_list = list(json_file)"
   ]
  },
  {
   "cell_type": "code",
   "execution_count": 58,
   "metadata": {},
   "outputs": [
    {
     "data": {
      "text/plain": [
       "[{11252: 115.84395595855632},\n",
       " {2771: 277.89018796227884},\n",
       " {2091: 457.7258972225499},\n",
       " {2092: 531.7010435017036},\n",
       " {17516: 550.6003543958708},\n",
       " {18071: 551.2729574110577},\n",
       " {9086: 552.6082353852908},\n",
       " {1121: 623.5493433272443},\n",
       " {3963: 658.1429950204761},\n",
       " {9297: 765.9733094891262},\n",
       " {6657: 799.4008321070664},\n",
       " {5226: 846.4850336202813},\n",
       " {4936: 863.8417040872273},\n",
       " {9498: 879.7927835700775},\n",
       " {17181: 957.5633258174967},\n",
       " {3446: 961.2319995461366}]"
      ]
     },
     "execution_count": 58,
     "metadata": {},
     "output_type": "execute_result"
    }
   ],
   "source": [
    "# plans sorted by min area displacement with lowest pop deviation\n",
    "l = []\n",
    "for idx, i in enumerate(json_list):\n",
    "  d = pd.json_normalize(json.loads(json_list[idx]))\n",
    "  pops = dict(d[[i for i in d.columns if \"population\" in i]].loc[0]).values()\n",
    "  dev = abs((min(pops) / ideal_population) - (max(pops) / ideal_population))\n",
    "  areas = dict(d[[i for i in d.columns if \"areas\" in i]].loc[0]).values()\n",
    "  if d['areas_change'][0] < 1000 and dev < 0.005:\n",
    "    l.append({idx:min(areas)})\n",
    "\n",
    "l.sort(key=lambda x: list(x.values()))\n",
    "l"
   ]
  },
  {
   "cell_type": "code",
   "execution_count": 80,
   "metadata": {},
   "outputs": [],
   "source": [
    "pop_change_list = []\n",
    "for idx, i in enumerate(json_list):\n",
    "  d = pd.json_normalize(json.loads(json_list[idx]))\n",
    "  pops_change = int(d[[i for i in d.columns if \"pops_change\" in i]].loc[0].iloc[0])\n",
    "  pop_change_list.append(pops_change)"
   ]
  },
  {
   "cell_type": "code",
   "execution_count": 81,
   "metadata": {},
   "outputs": [
    {
     "data": {
      "text/plain": [
       "(array([5.873e+03, 8.140e+02, 5.620e+02, 6.420e+02, 5.710e+02, 7.380e+02,\n",
       "        6.950e+02, 8.670e+02, 9.800e+02, 1.531e+03, 1.366e+03, 7.320e+02,\n",
       "        7.360e+02, 7.280e+02, 7.890e+02, 4.740e+02, 3.720e+02, 3.420e+02,\n",
       "        3.490e+02, 3.520e+02, 1.470e+02, 9.300e+01, 8.800e+01, 7.600e+01,\n",
       "        3.600e+01, 1.800e+01, 9.000e+00, 1.000e+01, 8.000e+00, 2.000e+00]),\n",
       " array([      0. ,  140028.6,  280057.2,  420085.8,  560114.4,  700143. ,\n",
       "         840171.6,  980200.2, 1120228.8, 1260257.4, 1400286. , 1540314.6,\n",
       "        1680343.2, 1820371.8, 1960400.4, 2100429. , 2240457.6, 2380486.2,\n",
       "        2520514.8, 2660543.4, 2800572. , 2940600.6, 3080629.2, 3220657.8,\n",
       "        3360686.4, 3500715. , 3640743.6, 3780772.2, 3920800.8, 4060829.4,\n",
       "        4200858. ]),\n",
       " <BarContainer object of 30 artists>)"
      ]
     },
     "execution_count": 81,
     "metadata": {},
     "output_type": "execute_result"
    },
    {
     "data": {
      "image/png": "[encoded data removed]",
      "text/plain": [
       "<Figure size 640x480 with 1 Axes>"
      ]
     },
     "metadata": {},
     "output_type": "display_data"
    }
   ],
   "source": [
    "plt.hist(pop_change_list, bins=30, color='skyblue', edgecolor='black')"
   ]
  },
  {
   "cell_type": "code",
   "execution_count": 63,
   "metadata": {},
   "outputs": [],
   "source": [
    "for idx, i in enumerate(json_list):\n",
    "  d = pd.json_normalize(json.loads(json_list[idx]))\n",
    "  if idx==11252:\n",
    "    pops_change = dict(d[[i for i in d.columns if \"pops_change\" in i]].loc[0]).values()\n",
    "    break"
   ]
  },
  {
   "cell_type": "code",
   "execution_count": 64,
   "metadata": {},
   "outputs": [
    {
     "data": {
      "text/plain": [
       "dict_values([148540.76761843817])"
      ]
     },
     "execution_count": 64,
     "metadata": {},
     "output_type": "execute_result"
    }
   ],
   "source": [
    "pops_change"
   ]
  },
  {
   "cell_type": "markdown",
   "metadata": {},
   "source": []
  },
  {
   "cell_type": "code",
   "execution_count": 46,
   "metadata": {},
   "outputs": [],
   "source": [
    "l = []\n",
    "for idx, i in enumerate(json_list):\n",
    "  d = pd.json_normalize(json.loads(json_list[idx]))\n",
    "  pops = dict(d[[i for i in d.columns if \"population\" in i]].loc[0]).values()\n",
    "  dev = abs((min(pops) / ideal_population) - (max(pops) / ideal_population))\n",
    "  cvap_poc_prop = dict(d[[i for i in d.columns if \"cvap_poc_prop\" in i]].loc[0]).values()\n",
    "  if d['areas_change'][0] < 5000 and dev < 0.005:\n",
    "    l.append({idx:max(cvap_poc_prop)})"
   ]
  },
  {
   "cell_type": "code",
   "execution_count": 47,
   "metadata": {},
   "outputs": [
    {
     "name": "stdout",
     "output_type": "stream",
     "text": [
      "0.23070290607669847\n",
      "0.2582785122247732\n"
     ]
    }
   ],
   "source": [
    "print(min([max(l[ind].values()) for ind, i in enumerate(l)]))\n",
    "print(max([max(l[ind].values()) for ind, i in enumerate(l)]))"
   ]
  }
 ],
 "metadata": {
  "kernelspec": {
   "display_name": "OR_CD-Rimf4Ogu",
   "language": "python",
   "name": "python3"
  },
  "language_info": {
   "codemirror_mode": {
    "name": "ipython",
    "version": 3
   },
   "file_extension": ".py",
   "mimetype": "text/x-python",
   "name": "python",
   "nbconvert_exporter": "python",
   "pygments_lexer": "ipython3",
   "version": "3.11.6"
  }
 },
 "nbformat": 4,
 "nbformat_minor": 4
}
