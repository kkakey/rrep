{
 "cells": [
  {
   "cell_type": "markdown",
   "metadata": {},
   "source": [
    "# Redistricting - Oregon Congressional"
   ]
  },
  {
   "cell_type": "markdown",
   "metadata": {},
   "source": [
    "### Code used to generate a sample of redistricting plans that optimize for a plan with a Gingles I majority-minority district"
   ]
  },
  {
   "cell_type": "markdown",
   "metadata": {},
   "source": [
    "****************************"
   ]
  },
  {
   "cell_type": "markdown",
   "metadata": {},
   "source": [
    "- Least changes map using 2020 5-year ACS population data\n",
    "- Proritizing the performance of majority-minority districts using 2020 election data"
   ]
  },
  {
   "cell_type": "code",
   "execution_count": 22,
   "metadata": {},
   "outputs": [],
   "source": [
    "import maup\n",
    "import pandas as pd\n",
    "import geopandas as gp\n",
    "import random\n",
    "import warnings\n",
    "warnings.filterwarnings('ignore')"
   ]
  },
  {
   "cell_type": "markdown",
   "metadata": {},
   "source": [
    "**Load data**"
   ]
  },
  {
   "cell_type": "code",
   "execution_count": 23,
   "metadata": {},
   "outputs": [],
   "source": [
    "current_cd = gp.read_file(\"./raw-data/current_map/district-shapes/POLYGON.shp\")\n",
    "acs_bg_shp = gp.read_file(\"./raw-data/or_race_2022_bg-acs_shp/or_race_2022_bg.shp\")\n",
    "prec_2020 = gp.read_file(\"./raw-data/or_vest_20/or_vest_20.shp\")\n",
    "blocks_2020 = gp.read_file(\"./raw-data/or_pl2020_b/or_pl2020_b.shp\")\n",
    "blocks_cvap_2022 = pd.read_csv(\"./raw-data/or_cvap_2022_2020_b/or_cvap_2022_2020_b.csv\")"
   ]
  },
  {
   "cell_type": "code",
   "execution_count": 24,
   "metadata": {},
   "outputs": [],
   "source": [
    "current_cd = current_cd.to_crs(epsg=32610)\n",
    "acs_bg_shp = acs_bg_shp.to_crs(epsg=32610)\n",
    "prec_2020 = prec_2020.to_crs(epsg=32610)\n",
    "blocks_2020 = blocks_2020.to_crs(epsg=32610) #4326\n",
    "\n",
    "current_cd[\"geometry\"] = current_cd.buffer(0)\n",
    "prec_2020[\"geometry\"] = prec_2020.buffer(0)\n",
    "blocks_2020[\"geometry\"] = blocks_2020.buffer(0)"
   ]
  },
  {
   "cell_type": "code",
   "execution_count": 25,
   "metadata": {},
   "outputs": [],
   "source": [
    "# km2\n",
    "current_cd['area_km2'] = current_cd['geometry'].area/ 10**6 \n",
    "blocks_2020['area_km2'] = blocks_2020[\"geometry\"].area/ 10**6 "
   ]
  },
  {
   "cell_type": "code",
   "execution_count": 26,
   "metadata": {},
   "outputs": [],
   "source": [
    "### join CVAP data to blocks\n",
    "blocks_cvap_2022.GEOID20 = blocks_cvap_2022.GEOID20.astype(str)\n",
    "blocks_2020= blocks_2020.merge(blocks_cvap_2022, on='GEOID20', how='left')"
   ]
  },
  {
   "cell_type": "markdown",
   "metadata": {},
   "source": [
    "### Prorate data from ACS 2022 Block-Groups to census blocks"
   ]
  },
  {
   "cell_type": "code",
   "execution_count": 27,
   "metadata": {},
   "outputs": [],
   "source": [
    "pop_columns = [col for col in acs_bg_shp.columns if \"22\" in col]\n",
    "bg_to_blocks_assignment = maup.assign(blocks_2020, acs_bg_shp)\n",
    "# Prorate the ACS totals according to each block's share of the overall block group population:\n",
    "weights = blocks_2020.P0010001  / bg_to_blocks_assignment.map(blocks_2020.P0010001.groupby(bg_to_blocks_assignment).sum()).fillna(0)\n",
    "prorated = maup.prorate(bg_to_blocks_assignment, acs_bg_shp[pop_columns], weights)\n",
    "\n",
    "blocks_2020[pop_columns] = prorated"
   ]
  },
  {
   "cell_type": "markdown",
   "metadata": {},
   "source": [
    "### Assign blocks to current enacted congressional plan"
   ]
  },
  {
   "cell_type": "code",
   "execution_count": 28,
   "metadata": {},
   "outputs": [],
   "source": [
    "bg_to_cd = maup.assign(blocks_2020, current_cd)\n",
    "blocks_2020['current_cd'] = bg_to_cd"
   ]
  },
  {
   "cell_type": "code",
   "execution_count": 29,
   "metadata": {},
   "outputs": [
    {
     "data": {
      "text/plain": [
       "current_cd\n",
       "0    703293.192844\n",
       "1    705168.536867\n",
       "2    700496.347280\n",
       "3    705867.371823\n",
       "4    708473.095047\n",
       "5    706075.456140\n",
       "Name: TOT_POP22, dtype: float64"
      ]
     },
     "execution_count": 29,
     "metadata": {},
     "output_type": "execute_result"
    }
   ],
   "source": [
    "# this pretty much matches Dave's Redistricting counts!\n",
    "blocks_2020.groupby('current_cd').TOT_POP22.sum()"
   ]
  },
  {
   "cell_type": "markdown",
   "metadata": {},
   "source": [
    "### Prorate Election Data from precincts to blocks"
   ]
  },
  {
   "cell_type": "code",
   "execution_count": 30,
   "metadata": {},
   "outputs": [
    {
     "data": {
      "text/html": [
       "<div>\n",
       "<style scoped>\n",
       "    .dataframe tbody tr th:only-of-type {\n",
       "        vertical-align: middle;\n",
       "    }\n",
       "\n",
       "    .dataframe tbody tr th {\n",
       "        vertical-align: top;\n",
       "    }\n",
       "\n",
       "    .dataframe thead th {\n",
       "        text-align: right;\n",
       "    }\n",
       "</style>\n",
       "<table border=\"1\" class=\"dataframe\">\n",
       "  <thead>\n",
       "    <tr style=\"text-align: right;\">\n",
       "      <th></th>\n",
       "      <th>PRECINCT</th>\n",
       "      <th>G20PREDBID</th>\n",
       "      <th>G20PRERTRU</th>\n",
       "      <th>G20PRELJOR</th>\n",
       "      <th>G20PREGHAW</th>\n",
       "      <th>G20PREPHUN</th>\n",
       "      <th>G20PREOWRI</th>\n",
       "      <th>G20PREDOTH</th>\n",
       "    </tr>\n",
       "  </thead>\n",
       "  <tbody>\n",
       "    <tr>\n",
       "      <th>0</th>\n",
       "      <td>4506</td>\n",
       "      <td>2656</td>\n",
       "      <td>717</td>\n",
       "      <td>30</td>\n",
       "      <td>32</td>\n",
       "      <td>6</td>\n",
       "      <td>24</td>\n",
       "      <td>92</td>\n",
       "    </tr>\n",
       "    <tr>\n",
       "      <th>1</th>\n",
       "      <td>4409</td>\n",
       "      <td>1613</td>\n",
       "      <td>473</td>\n",
       "      <td>24</td>\n",
       "      <td>22</td>\n",
       "      <td>11</td>\n",
       "      <td>15</td>\n",
       "      <td>72</td>\n",
       "    </tr>\n",
       "    <tr>\n",
       "      <th>2</th>\n",
       "      <td>4404</td>\n",
       "      <td>8264</td>\n",
       "      <td>907</td>\n",
       "      <td>106</td>\n",
       "      <td>68</td>\n",
       "      <td>32</td>\n",
       "      <td>80</td>\n",
       "      <td>286</td>\n",
       "    </tr>\n",
       "    <tr>\n",
       "      <th>3</th>\n",
       "      <td>4502</td>\n",
       "      <td>3948</td>\n",
       "      <td>482</td>\n",
       "      <td>49</td>\n",
       "      <td>32</td>\n",
       "      <td>9</td>\n",
       "      <td>27</td>\n",
       "      <td>117</td>\n",
       "    </tr>\n",
       "    <tr>\n",
       "      <th>4</th>\n",
       "      <td>4501</td>\n",
       "      <td>9190</td>\n",
       "      <td>785</td>\n",
       "      <td>78</td>\n",
       "      <td>36</td>\n",
       "      <td>18</td>\n",
       "      <td>57</td>\n",
       "      <td>189</td>\n",
       "    </tr>\n",
       "    <tr>\n",
       "      <th>...</th>\n",
       "      <td>...</td>\n",
       "      <td>...</td>\n",
       "      <td>...</td>\n",
       "      <td>...</td>\n",
       "      <td>...</td>\n",
       "      <td>...</td>\n",
       "      <td>...</td>\n",
       "      <td>...</td>\n",
       "    </tr>\n",
       "    <tr>\n",
       "      <th>1326</th>\n",
       "      <td>201</td>\n",
       "      <td>2656</td>\n",
       "      <td>1465</td>\n",
       "      <td>84</td>\n",
       "      <td>13</td>\n",
       "      <td>2</td>\n",
       "      <td>35</td>\n",
       "      <td>134</td>\n",
       "    </tr>\n",
       "    <tr>\n",
       "      <th>1327</th>\n",
       "      <td>435</td>\n",
       "      <td>2335</td>\n",
       "      <td>1608</td>\n",
       "      <td>82</td>\n",
       "      <td>18</td>\n",
       "      <td>8</td>\n",
       "      <td>49</td>\n",
       "      <td>157</td>\n",
       "    </tr>\n",
       "    <tr>\n",
       "      <th>1328</th>\n",
       "      <td>425</td>\n",
       "      <td>452</td>\n",
       "      <td>550</td>\n",
       "      <td>15</td>\n",
       "      <td>4</td>\n",
       "      <td>1</td>\n",
       "      <td>9</td>\n",
       "      <td>29</td>\n",
       "    </tr>\n",
       "    <tr>\n",
       "      <th>1329</th>\n",
       "      <td>13</td>\n",
       "      <td>1091</td>\n",
       "      <td>2040</td>\n",
       "      <td>58</td>\n",
       "      <td>17</td>\n",
       "      <td>5</td>\n",
       "      <td>18</td>\n",
       "      <td>98</td>\n",
       "    </tr>\n",
       "    <tr>\n",
       "      <th>1330</th>\n",
       "      <td>11</td>\n",
       "      <td>0</td>\n",
       "      <td>1</td>\n",
       "      <td>0</td>\n",
       "      <td>0</td>\n",
       "      <td>0</td>\n",
       "      <td>0</td>\n",
       "      <td>0</td>\n",
       "    </tr>\n",
       "  </tbody>\n",
       "</table>\n",
       "<p>1331 rows × 8 columns</p>\n",
       "</div>"
      ],
      "text/plain": [
       "     PRECINCT  G20PREDBID  G20PRERTRU  G20PRELJOR  G20PREGHAW  G20PREPHUN   \n",
       "0        4506        2656         717          30          32           6  \\\n",
       "1        4409        1613         473          24          22          11   \n",
       "2        4404        8264         907         106          68          32   \n",
       "3        4502        3948         482          49          32           9   \n",
       "4        4501        9190         785          78          36          18   \n",
       "...       ...         ...         ...         ...         ...         ...   \n",
       "1326      201        2656        1465          84          13           2   \n",
       "1327      435        2335        1608          82          18           8   \n",
       "1328      425         452         550          15           4           1   \n",
       "1329       13        1091        2040          58          17           5   \n",
       "1330       11           0           1           0           0           0   \n",
       "\n",
       "      G20PREOWRI  G20PREDOTH  \n",
       "0             24          92  \n",
       "1             15          72  \n",
       "2             80         286  \n",
       "3             27         117  \n",
       "4             57         189  \n",
       "...          ...         ...  \n",
       "1326          35         134  \n",
       "1327          49         157  \n",
       "1328           9          29  \n",
       "1329          18          98  \n",
       "1330           0           0  \n",
       "\n",
       "[1331 rows x 8 columns]"
      ]
     },
     "execution_count": 30,
     "metadata": {},
     "output_type": "execute_result"
    }
   ],
   "source": [
    "# OTHER vote column\n",
    "prec_2020['G20PREDOTH'] = prec_2020[[col for col in prec_2020.columns if \"PRE\" in col and col not in ('G20PREDBID', 'G20PRERTRU', 'PRECINCT')]].sum(axis=1)\n",
    "prec_2020[[col for col in prec_2020.columns if \"PRE\" in col]]"
   ]
  },
  {
   "cell_type": "code",
   "execution_count": 31,
   "metadata": {},
   "outputs": [],
   "source": [
    "elec_columns = ['G20PREDBID', 'G20PRERTRU', 'G20PREDOTH']\n",
    "prec_2020[elec_columns] = prec_2020[elec_columns].astype(int)\n",
    "assignment = maup.assign(blocks_2020, prec_2020)\n",
    "weights_elec = blocks_2020.P0010001  / assignment.map(blocks_2020.P0010001.groupby(assignment).sum()).fillna(0)\n",
    "prorated_elec = maup.prorate(assignment, prec_2020[elec_columns], weights_elec)\n",
    "\n",
    "blocks_2020[elec_columns] = prorated_elec"
   ]
  },
  {
   "cell_type": "code",
   "execution_count": 32,
   "metadata": {},
   "outputs": [],
   "source": [
    "blocks_2020['CVAP_POC'] = blocks_2020[['CVAP_2OM22', 'CVAP_HSP22', 'CVAP_AIA22', 'CVAP_ASN22', 'CVAP_BLK22']].sum(axis=1)"
   ]
  },
  {
   "cell_type": "markdown",
   "metadata": {},
   "source": [
    "### MCMC Prep"
   ]
  },
  {
   "cell_type": "code",
   "execution_count": 33,
   "metadata": {},
   "outputs": [],
   "source": [
    "import networkx as nx\n",
    "from functools import partial\n",
    "import matplotlib.pyplot as plt\n",
    "import json\n",
    "import numpy as np\n",
    "plt.style.use('ggplot')\n",
    "\n",
    "from gerrychain import (\n",
    "    Election,\n",
    "    Graph,\n",
    "    MarkovChain,\n",
    "    Partition,\n",
    "    accept,\n",
    "    constraints,\n",
    "    updaters,\n",
    ")\n",
    "from gerrychain.metrics import efficiency_gap, mean_median, partisan_gini\n",
    "from gerrychain.tree import bipartition_tree\n",
    "from gerrychain.optimization import SingleMetricOptimizer, Gingleator\n",
    "from gerrychain.proposals import recom, propose_random_flip\n",
    "from gerrychain.updaters import Tally\n",
    "from gerrychain.constraints import contiguous\n",
    "from gerrytools.scoring import gingles_districts, demographic_shares, summarize\n",
    "random.seed(99)"
   ]
  },
  {
   "cell_type": "code",
   "execution_count": 34,
   "metadata": {},
   "outputs": [],
   "source": [
    "state_abbr = \"OH\"\n",
    "state_fip = \"39\"\n",
    "num_districts = 6\n",
    "unique_label = \"GEOID20\"\n",
    "pop_col = \"TOT_POP22\""
   ]
  },
  {
   "cell_type": "code",
   "execution_count": 35,
   "metadata": {},
   "outputs": [],
   "source": [
    "# Fill NA values with 0\n",
    "blocks_2020[blocks_2020.columns[blocks_2020.isna().any()].tolist()] = blocks_2020[blocks_2020.columns[blocks_2020.isna().any()].tolist()].fillna(0)"
   ]
  },
  {
   "cell_type": "code",
   "execution_count": 36,
   "metadata": {},
   "outputs": [],
   "source": [
    "blocks_2020_select = blocks_2020[['GEOID20', 'current_cd', 'area_km2', 'TOT_POP22', 'CVAP_TOT22', 'CVAP_POC', 'G20PREDBID', 'G20PRERTRU', 'G20PREDOTH', 'geometry']]"
   ]
  },
  {
   "cell_type": "code",
   "execution_count": 37,
   "metadata": {},
   "outputs": [],
   "source": [
    "# create graph\n",
    "graph = Graph.from_geodataframe(blocks_2020_select)\n",
    "graph.add_data(blocks_2020_select,list(blocks_2020_select))"
   ]
  },
  {
   "cell_type": "code",
   "execution_count": 38,
   "metadata": {},
   "outputs": [
    {
     "name": "stdout",
     "output_type": "stream",
     "text": [
      "4229373.999999991\n"
     ]
    },
    {
     "data": {
      "text/plain": [
       "4229374.0"
      ]
     },
     "execution_count": 38,
     "metadata": {},
     "output_type": "execute_result"
    }
   ],
   "source": [
    "# population check\n",
    "TOTPOP = sum(graph.nodes()[n]['TOT_POP22'] for n in graph.nodes())\n",
    "print(TOTPOP)\n",
    "blocks_2020.TOT_POP22.sum()"
   ]
  },
  {
   "cell_type": "code",
   "execution_count": 39,
   "metadata": {},
   "outputs": [],
   "source": [
    "import polars as pl\n",
    "class PartValue:\n",
    "    def __init__(self, col=None, state=state_abbr, num=None):\n",
    "        self.col = col\n",
    "        self.state = state\n",
    "        self.num = num\n",
    "\n",
    "    def get_val(self, partition):\n",
    "        return list(map(lambda x: partition.graph.nodes[x].get(self.col), range(blocks_2020.shape[0])))\n",
    "    \n",
    "    def new_districts(partition):\n",
    "        return list(map(lambda x: partition.assignment[x], range(blocks_2020.shape[0])))\n",
    "    \n",
    "    def displacement(self, partition):\n",
    "        c = []\n",
    "        for inx, (i,j) in enumerate(zip(partition['new_districts'], partition['current_cds'])):\n",
    "            if int(i) != int(j):\n",
    "                c.append(partition.graph.nodes[inx].get(self.col))\n",
    "        return(sum(c))\n",
    "    \n",
    "class SavePart:\n",
    "    def __init__(self, state=state_abbr, num=None, dir = None):\n",
    "        self.state = state\n",
    "        self.num = num\n",
    "        self.dir = dir\n",
    "        \n",
    "    def save_assignment(self, partition):\n",
    "        geos_ids = PartValue(col='GEOID20').get_val(partition)\n",
    "        new_cds = PartValue.new_districts(partition)\n",
    "        assignment_df = pl.DataFrame({\n",
    "                \"GEOID20\": geos_ids,\n",
    "                \"CD\": new_cds}\n",
    "            )\n",
    "        output_name = f\"{self.state}_part_{str(self.num)}.txt\",\n",
    "        if self.dir is not None:\n",
    "            output_name = f\"{self.dir}/{self.state}_part_{str(self.num)}.txt\"\n",
    "        return(assignment_df.write_csv(output_name, separator=\",\"))\n"
   ]
  },
  {
   "cell_type": "code",
   "execution_count": 40,
   "metadata": {},
   "outputs": [],
   "source": [
    "updater = {\n",
    "    \"population\": updaters.Tally(\"TOT_POP22\", alias=\"population\"),\n",
    "    \"cvap\": updaters.Tally(\"CVAP_TOT22\", alias=\"cvap\"),\n",
    "    \"cvap_poc\": updaters.Tally(\"CVAP_POC\", alias=\"cvap_poc\"),\n",
    "    \"2020_pres\" : Election(\"2020_pres\", {\"G20PRERTRU\":\"G20PRERTRU\",\"G20PREDBID\":\"G20PREDBID\",\"G20PREDOTH\":\"G20PREDOTH\"}, alias=\"2020_pres\"),\n",
    "    \"area\": updaters.Tally(\"area_km2\", alias=\"area\"),\n",
    "    \"new_districts\": PartValue.new_districts,\n",
    "    \"current_cds\" : PartValue(col='current_cd').get_val,\n",
    "    \"pop_change\" : PartValue(col='TOT_POP22').displacement,\n",
    "    \"area_change\" : PartValue(col='area_km2').displacement,\n",
    "    \n",
    "}\n",
    "\n",
    "initial_partition = Partition(\n",
    "    graph,\n",
    "    assignment=\"current_cd\",\n",
    "    updaters=updater\n",
    ")\n",
    "\n",
    "ideal_population = sum(initial_partition[\"population\"].values()) / len(initial_partition)\n",
    "\n",
    "proposal = partial(\n",
    "    # propose_random_flip,\n",
    "    recom,\n",
    "    pop_col=\"TOT_POP22\",\n",
    "    pop_target=ideal_population,\n",
    "    epsilon=.0075,\n",
    "    node_repeats=1,\n",
    "    method = partial(\n",
    "        bipartition_tree,\n",
    "        max_attempts=5,\n",
    "        allow_pair_reselection=True \n",
    "    )\n",
    ")"
   ]
  },
  {
   "cell_type": "markdown",
   "metadata": {},
   "source": [
    "### Gingles I optimizer -- optimize for plans that create a Gingles I district"
   ]
  },
  {
   "cell_type": "code",
   "execution_count": null,
   "metadata": {},
   "outputs": [],
   "source": [
    "gingles_optimizer = Gingleator(\n",
    "    proposal,\n",
    "    constraints=[contiguous],\n",
    "    initial_state=initial_partition,\n",
    "    minority_pop_col=\"cvap_poc\",\n",
    "    total_pop_col=\"cvap\",\n",
    "    score_function=Gingleator.reward_partial_dist\n",
    ")\n",
    "\n",
    "random.seed(2024)"
   ]
  },
  {
   "cell_type": "code",
   "execution_count": 44,
   "metadata": {},
   "outputs": [
    {
     "name": "stderr",
     "output_type": "stream",
     "text": [
      "Python(32969) MallocStackLogging: can't turn off malloc stack logging because it was not enabled.\n",
      "100%|██████████| 10000/10000 [24:01:34<00:00,  8.65s/it]  \n"
     ]
    }
   ],
   "source": [
    "tot_pop = []\n",
    "cvap_pop = []\n",
    "cvap_poc = []\n",
    "pres20 = []\n",
    "\n",
    "areas = []\n",
    "people_change = []\n",
    "area_change = []\n",
    "\n",
    "gingles_scores = []\n",
    "poc_props = []\n",
    "\n",
    "dem_seats_pres = []\n",
    "rep_seats_pres = []\n",
    "\n",
    "pop_dev = []\n",
    "\n",
    "t = 0\n",
    "min_scores_sb = []\n",
    "with open(\"./output_gingles/OR_gingles_output.jsonl\", \"w\") as f:\n",
    "    for i, part in enumerate(gingles_optimizer.short_bursts(5, 2000, with_progress_bar=True)):\n",
    "        min_scores_sb.append(gingles_optimizer.best_score)\n",
    "        \n",
    "        tot_pop.append(part[\"population\"])\n",
    "        cvap_pop.append(part[\"cvap\"])\n",
    "        cvap_poc.append(part[\"cvap_poc\"])\n",
    "        \n",
    "        dev = abs((min(part[\"population\"].values()) / ideal_population) - (max(part[\"population\"].values()) / ideal_population))\n",
    "        pop_dev.append(dev)\n",
    "        \n",
    "        areas.append(part[\"area\"])\n",
    "        people_change.append(part[\"pop_change\"])\n",
    "        area_change.append(part[\"area_change\"])\n",
    "\n",
    "        pres20.append(part[\"2020_pres\"].percents(\"G20PREDBID\"))\n",
    "        dem_seats_pres.append(part[\"2020_pres\"].wins(\"G20PREDBID\"))\n",
    "        rep_seats_pres.append(part[\"2020_pres\"].wins(\"G20PRERTRU\"))\n",
    "        \n",
    "        pp = demographic_shares({\"cvap\": [\"cvap_poc\"]})[0].apply(part)\n",
    "        gd = gingles_districts({\"cvap\": [\"cvap_poc\"]}, threshold=0.5)[0].apply(part)\n",
    "        poc_props.append(pp)\n",
    "        gingles_scores.append(gd)\n",
    "\n",
    "        if gd > 0 and dev < .0075:\n",
    "            SavePart(num=t, dir='./output_gingles/').save_assignment(part)\n",
    "\n",
    "        t +=1\n",
    "        data = {\n",
    "            \"step\": t,\n",
    "            \"populations\": part[\"population\"],\n",
    "            \"areas\": part[\"area\"],\n",
    "            \"areas_change\": part[\"area_change\"],\n",
    "            \"pops_change\":part[\"pop_change\"],\n",
    "            \"cvap_poc_prop\": pp,\n",
    "            \"cvap_tot\": part[\"cvap\"],\n",
    "            \"gingles_districts\" : gd\n",
    "        }\n",
    "            \n",
    "        # Add newline character to separate entries in JSONL file\n",
    "        f.write(json.dumps(data) + \"\\n\")"
   ]
  },
  {
   "cell_type": "markdown",
   "metadata": {},
   "source": [
    "**It is impossible to create a plan that allows for a Gingles I district**"
   ]
  },
  {
   "cell_type": "code",
   "execution_count": 46,
   "metadata": {},
   "outputs": [
    {
     "data": {
      "text/plain": [
       "(array([2.000e+00, 4.000e+00, 3.000e+00, 1.000e+01, 3.000e+00, 3.100e+01,\n",
       "        1.290e+02, 2.010e+02, 3.100e+02, 3.950e+02, 2.480e+02, 1.350e+02,\n",
       "        5.800e+01, 4.700e+01, 5.000e+01, 2.100e+01, 1.100e+01, 7.000e+00,\n",
       "        6.000e+00, 1.000e+01, 3.400e+01, 2.100e+01, 3.600e+01, 3.800e+01,\n",
       "        1.510e+02, 3.540e+02, 8.450e+02, 1.571e+03, 2.170e+03, 3.099e+03]),\n",
       " array([     0.        ,   8500.46919943,  17000.93839885,  25501.40759828,\n",
       "         34001.8767977 ,  42502.34599713,  51002.81519655,  59503.28439598,\n",
       "         68003.7535954 ,  76504.22279483,  85004.69199426,  93505.16119368,\n",
       "        102005.63039311, 110506.09959253, 119006.56879196, 127507.03799138,\n",
       "        136007.50719081, 144507.97639023, 153008.44558966, 161508.91478909,\n",
       "        170009.38398851, 178509.85318794, 187010.32238736, 195510.79158679,\n",
       "        204011.26078621, 212511.72998564, 221012.19918507, 229512.66838449,\n",
       "        238013.13758392, 246513.60678334, 255014.07598277]),\n",
       " <BarContainer object of 30 artists>)"
      ]
     },
     "execution_count": 46,
     "metadata": {},
     "output_type": "execute_result"
    },
    {
     "data": {
      "image/png": "[encoded data removed]",
      "text/plain": [
       "<Figure size 640x480 with 1 Axes>"
      ]
     },
     "metadata": {},
     "output_type": "display_data"
    }
   ],
   "source": [
    "plt.hist(area_change, bins=30, color='skyblue', edgecolor='black')"
   ]
  },
  {
   "cell_type": "code",
   "execution_count": null,
   "metadata": {},
   "outputs": [],
   "source": []
  }
 ],
 "metadata": {
  "kernelspec": {
   "display_name": "OR_CD-Rimf4Ogu",
   "language": "python",
   "name": "python3"
  },
  "language_info": {
   "codemirror_mode": {
    "name": "ipython",
    "version": 3
   },
   "file_extension": ".py",
   "mimetype": "text/x-python",
   "name": "python",
   "nbconvert_exporter": "python",
   "pygments_lexer": "ipython3",
   "version": "3.11.6"
  }
 },
 "nbformat": 4,
 "nbformat_minor": 4
}
