{
 "cells": [
  {
   "cell_type": "code",
   "execution_count": 3,
   "metadata": {},
   "outputs": [],
   "source": [
    "import pandas as pd\n",
    "import os\n"
   ]
  },
  {
   "cell_type": "code",
   "execution_count": null,
   "metadata": {},
   "outputs": [],
   "source": [
    "def reformat_txt(file_name):\n",
    "    \"\"\"\n",
    "    Reformat the text file into a DataFrame and save it as a CSV file.\n",
    "    \n",
    "    Args:\n",
    "        file_name (str): The name of the input text file.\n",
    "    \"\"\"\n",
    "    base_name = os.path.basename(file_name)\n",
    "    # Read the text file into a DataFrame\n",
    "    df = pd.read_csv(file_name)\n",
    "    df.GEOID = df.GEOID.str[-15:]\n",
    "    \n",
    "    df.to_csv('~/Downloads/'+base_name, index=False)"
   ]
  },
  {
   "cell_type": "code",
   "execution_count": null,
   "metadata": {},
   "outputs": [],
   "source": [
    "reformat_txt('~/Documents/RREP/Mapping/putnam_fl-county_commissioner/output-coalition_cvap/FL_part_70150.txt')"
   ]
  },
  {
   "cell_type": "code",
   "execution_count": null,
   "metadata": {},
   "outputs": [],
   "source": []
  }
 ],
 "metadata": {
  "kernelspec": {
   "display_name": "putnam_fl-county_commissioner-0LR-_wjO",
   "language": "python",
   "name": "python3"
  },
  "language_info": {
   "codemirror_mode": {
    "name": "ipython",
    "version": 3
   },
   "file_extension": ".py",
   "mimetype": "text/x-python",
   "name": "python",
   "nbconvert_exporter": "python",
   "pygments_lexer": "ipython3",
   "version": "3.11.3"
  }
 },
 "nbformat": 4,
 "nbformat_minor": 2
}
